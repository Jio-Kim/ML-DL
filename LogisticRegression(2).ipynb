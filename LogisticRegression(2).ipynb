{
  "nbformat": 4,
  "nbformat_minor": 0,
  "metadata": {
    "colab": {
      "provenance": [],
      "authorship_tag": "ABX9TyP1Pdso9MgM6Y/+n9B+AUUZ",
      "include_colab_link": true
    },
    "kernelspec": {
      "name": "python3",
      "display_name": "Python 3"
    },
    "language_info": {
      "name": "python"
    }
  },
  "cells": [
    {
      "cell_type": "markdown",
      "metadata": {
        "id": "view-in-github",
        "colab_type": "text"
      },
      "source": [
        "<a href=\"https://colab.research.google.com/github/Jio-Kim/ML-DL/blob/main/LogisticRegression(2).ipynb\" target=\"_parent\"><img src=\"https://colab.research.google.com/assets/colab-badge.svg\" alt=\"Open In Colab\"/></a>"
      ]
    },
    {
      "cell_type": "markdown",
      "source": [
        "# 다중 입력 로지스틱 회귀"
      ],
      "metadata": {
        "id": "QT6jRxOR_Sxw"
      }
    },
    {
      "cell_type": "markdown",
      "source": [
        "- 2개의 입력을 받아 0 또는 1을 출력하는 로지스틱 회귀 모델을 케라스로 구현\n",
        "- 대표적인 예로 AND연산 사용"
      ],
      "metadata": {
        "id": "w0V58H9K4LMa"
      }
    },
    {
      "cell_type": "code",
      "execution_count": 1,
      "metadata": {
        "id": "qGcmnI9v_GoI"
      },
      "outputs": [],
      "source": [
        "# 필요한 라이브러리 임포트\n",
        "from tensorflow.keras.models import Sequential\n",
        "from tensorflow.keras.layers import Dense, Activation\n",
        "import numpy as np"
      ]
    },
    {
      "cell_type": "markdown",
      "source": [
        "### 로지스틱 회귀 모델 만들기\n",
        "- sigmoid(w_1x_1 + w_2x_2 + b)의 형태를 띠는 간단한 로지스틱 회귀를 케라스로 구현"
      ],
      "metadata": {
        "id": "0qbaohvc4iCB"
      }
    },
    {
      "cell_type": "code",
      "source": [
        "model = Sequential()\n",
        "# 2개의 입력을 받아 1개의 출력 리턴\n",
        "model.add(Dense(input_dim=2, units = 1))\n",
        "# 이전 레이어의 출력값을 입력으로 받아 시그모이드 출력 리턴\n",
        "model.add(Activation('sigmoid'))\n",
        "# 크로스 엔트로피 비용함수를 사용해 경사하강법으로 학습 진행\n",
        "# binary_accuracy는 출력이 0.5 이상일 경우 출력 1, 이하일 경우 0으로 판단\n",
        "model.compile(loss = 'binary_crossentropy', optimizer = 'sgd', metrics = ['binary_accuracy'])"
      ],
      "metadata": {
        "id": "D-vkgzlI4gEA"
      },
      "execution_count": 2,
      "outputs": []
    },
    {
      "cell_type": "markdown",
      "source": [
        "### 데이터 생성"
      ],
      "metadata": {
        "id": "U_maxstE8HlH"
      }
    },
    {
      "cell_type": "code",
      "source": [
        "X = np.array([(0,0),(0,1), (1,0), (1,1)])\n",
        "Y = np.array([0,0,0,1])"
      ],
      "metadata": {
        "id": "9ci_rZn68BJZ"
      },
      "execution_count": 3,
      "outputs": []
    },
    {
      "cell_type": "markdown",
      "source": [
        "### 모델 학습\n",
        "- 5000번의 반복 학습을 통해 최적의 w, b 구하기"
      ],
      "metadata": {
        "id": "Kh2xEdTg8Q8r"
      }
    },
    {
      "cell_type": "code",
      "source": [
        "model.fit(X,Y, epochs = 5000, verbose = 0)"
      ],
      "metadata": {
        "colab": {
          "base_uri": "https://localhost:8080/"
        },
        "id": "rdnOe-wQ8P3W",
        "outputId": "8864afd2-ce57-406d-9d9b-c5ce9f21171b"
      },
      "execution_count": 4,
      "outputs": [
        {
          "output_type": "execute_result",
          "data": {
            "text/plain": [
              "<keras.callbacks.History at 0x7f16583dfd90>"
            ]
          },
          "metadata": {},
          "execution_count": 4
        }
      ]
    },
    {
      "cell_type": "code",
      "source": [
        "# 학습 데이터에 따른 모델의 출력값 출력\n",
        "model.predict(X)\n",
        "# 앞 세개 0.5보다 작고, 마지막 0.5보다 큼"
      ],
      "metadata": {
        "colab": {
          "base_uri": "https://localhost:8080/"
        },
        "id": "c7_NKcsQ8YT_",
        "outputId": "214dd847-c31f-41e3-e548-30088406ac20"
      },
      "execution_count": 5,
      "outputs": [
        {
          "output_type": "stream",
          "name": "stdout",
          "text": [
            "1/1 [==============================] - 0s 85ms/step\n"
          ]
        },
        {
          "output_type": "execute_result",
          "data": {
            "text/plain": [
              "array([[0.03431607],\n",
              "       [0.22629057],\n",
              "       [0.2057649 ],\n",
              "       [0.6807457 ]], dtype=float32)"
            ]
          },
          "metadata": {},
          "execution_count": 5
        }
      ]
    },
    {
      "cell_type": "markdown",
      "source": [
        "### 모델 요약"
      ],
      "metadata": {
        "id": "5Odjvq3m8j6n"
      }
    },
    {
      "cell_type": "markdown",
      "source": [
        "- 다중 입력 로지스틱 모델은 w1, w2, b가 첫번째 레이어에 존재하며 학습 과정을 통해 최적의 w1,w2,b가 지정됨\n",
        "- dense 레이어에 3개의 param 확인 가능(w1,w2,b)\n",
        "- dense의 레이어를 선형 회귀 레이어라고 할 수 있음\n",
        "- 선형 회귀 레이어의 출력은 activation의 입력이 됨\n",
        "- activation 레이어는 시그모이드 함수이며, 학습되는 param 존재하지 않음"
      ],
      "metadata": {
        "id": "EyPzhxRV8xSt"
      }
    },
    {
      "cell_type": "code",
      "source": [
        "model.summary()"
      ],
      "metadata": {
        "colab": {
          "base_uri": "https://localhost:8080/"
        },
        "id": "TJ3Kupog8fTu",
        "outputId": "f190ffc6-f50e-4caf-f873-26e895cb099d"
      },
      "execution_count": 6,
      "outputs": [
        {
          "output_type": "stream",
          "name": "stdout",
          "text": [
            "Model: \"sequential\"\n",
            "_________________________________________________________________\n",
            " Layer (type)                Output Shape              Param #   \n",
            "=================================================================\n",
            " dense (Dense)               (None, 1)                 3         \n",
            "                                                                 \n",
            " activation (Activation)     (None, 1)                 0         \n",
            "                                                                 \n",
            "=================================================================\n",
            "Total params: 3\n",
            "Trainable params: 3\n",
            "Non-trainable params: 0\n",
            "_________________________________________________________________\n"
          ]
        }
      ]
    },
    {
      "cell_type": "code",
      "source": [
        "model.layers[0].weights"
      ],
      "metadata": {
        "colab": {
          "base_uri": "https://localhost:8080/"
        },
        "id": "eYJGnql98miq",
        "outputId": "059d661d-ee68-4fed-bfa3-e49a96634a83"
      },
      "execution_count": 7,
      "outputs": [
        {
          "output_type": "execute_result",
          "data": {
            "text/plain": [
              "[<tf.Variable 'dense/kernel:0' shape=(2, 1) dtype=float32, numpy=\n",
              " array([[1.9865776],\n",
              "        [2.1078463]], dtype=float32)>,\n",
              " <tf.Variable 'dense/bias:0' shape=(1,) dtype=float32, numpy=array([-3.3372228], dtype=float32)>]"
            ]
          },
          "metadata": {},
          "execution_count": 7
        }
      ]
    },
    {
      "cell_type": "code",
      "source": [
        "# 학습을 통해 구한 최적의 w1,w2,b 확인 가능\n",
        "model.layers[0].get_weights()"
      ],
      "metadata": {
        "colab": {
          "base_uri": "https://localhost:8080/"
        },
        "id": "9dOoQYx-8o65",
        "outputId": "3f3b817e-5010-4cd4-b393-98186af7a75e"
      },
      "execution_count": 8,
      "outputs": [
        {
          "output_type": "execute_result",
          "data": {
            "text/plain": [
              "[array([[1.9865776],\n",
              "        [2.1078463]], dtype=float32), array([-3.3372228], dtype=float32)]"
            ]
          },
          "metadata": {},
          "execution_count": 8
        }
      ]
    },
    {
      "cell_type": "code",
      "source": [],
      "metadata": {
        "id": "CsAYNmGG8rVu"
      },
      "execution_count": null,
      "outputs": []
    }
  ]
}