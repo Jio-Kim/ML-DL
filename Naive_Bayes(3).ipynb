{
  "nbformat": 4,
  "nbformat_minor": 0,
  "metadata": {
    "colab": {
      "provenance": [],
      "authorship_tag": "ABX9TyPMj8gGWZeZXN2imhitZxmp",
      "include_colab_link": true
    },
    "kernelspec": {
      "name": "python3",
      "display_name": "Python 3"
    },
    "language_info": {
      "name": "python"
    }
  },
  "cells": [
    {
      "cell_type": "markdown",
      "metadata": {
        "id": "view-in-github",
        "colab_type": "text"
      },
      "source": [
        "<a href=\"https://colab.research.google.com/github/Jio-Kim/ML-DL/blob/main/Naive_Bayes(3).ipynb\" target=\"_parent\"><img src=\"https://colab.research.google.com/assets/colab-badge.svg\" alt=\"Open In Colab\"/></a>"
      ]
    },
    {
      "cell_type": "markdown",
      "source": [
        "# 다항분포 나이브 베이즈를 활용한 영화 리뷰 분류"
      ],
      "metadata": {
        "id": "pFcsp9s-JoLp"
      }
    },
    {
      "cell_type": "markdown",
      "source": [
        "### 문제정의\n",
        "- 영화 리뷰에 다항분포 나이브 베이즈 분류를 활용해 영화 리뷰가 긍정적인지 부정적인지 분류"
      ],
      "metadata": {
        "id": "Mg30y4hKLEn0"
      }
    },
    {
      "cell_type": "code",
      "execution_count": 1,
      "metadata": {
        "id": "zxRTqgVxJlNz"
      },
      "outputs": [],
      "source": [
        "# 필요한 파이썬 라이브러리\n",
        "import numpy as np\n",
        "import pandas as pd\n",
        "from sklearn.feature_extraction.text import CountVectorizer\n",
        "from sklearn.naive_bayes import MultinomialNB\n",
        "from sklearn.metrics import accuracy_score"
      ]
    },
    {
      "cell_type": "markdown",
      "source": [
        "### 데이터 획득"
      ],
      "metadata": {
        "id": "srO__URvLcUA"
      }
    },
    {
      "cell_type": "code",
      "source": [
        "review_list = [\n",
        "                {'movie_review': 'this is great great movie. I will watch again', 'type': 'positive'},\n",
        "                {'movie_review': 'I like this movie', 'type': 'positive'},\n",
        "                {'movie_review': 'amazing movie in this year', 'type': 'positive'},\n",
        "                {'movie_review': 'cool my boyfriend also said the movie is cool', 'type': 'positive'},\n",
        "                {'movie_review': 'awesome of the awesome movie ever', 'type': 'positive'},\n",
        "                {'movie_review': 'shame I wasted money and time', 'type': 'negative'},\n",
        "                {'movie_review': 'regret on this move. I will never never what movie from this director', 'type': 'negative'},\n",
        "                {'movie_review': 'I do not like this movie', 'type': 'negative'},\n",
        "                {'movie_review': 'I do not like actors in this movie', 'type': 'negative'},\n",
        "                {'movie_review': 'boring boring sleeping movie', 'type': 'negative'}\n",
        "             ]\n",
        "df = pd.DataFrame(review_list)\n",
        "df"
      ],
      "metadata": {
        "colab": {
          "base_uri": "https://localhost:8080/",
          "height": 363
        },
        "id": "LcMGW--ILbDu",
        "outputId": "4bb17cc7-0a75-43f8-c6aa-3f6fc6596586"
      },
      "execution_count": 3,
      "outputs": [
        {
          "output_type": "execute_result",
          "data": {
            "text/plain": [
              "                                        movie_review      type\n",
              "0      this is great great movie. I will watch again  positive\n",
              "1                                  I like this movie  positive\n",
              "2                         amazing movie in this year  positive\n",
              "3      cool my boyfriend also said the movie is cool  positive\n",
              "4                  awesome of the awesome movie ever  positive\n",
              "5                      shame I wasted money and time  negative\n",
              "6  regret on this move. I will never never what m...  negative\n",
              "7                           I do not like this movie  negative\n",
              "8                 I do not like actors in this movie  negative\n",
              "9                       boring boring sleeping movie  negative"
            ],
            "text/html": [
              "\n",
              "  <div id=\"df-a82753cd-b4ad-4b3d-a226-d6e3826d9252\">\n",
              "    <div class=\"colab-df-container\">\n",
              "      <div>\n",
              "<style scoped>\n",
              "    .dataframe tbody tr th:only-of-type {\n",
              "        vertical-align: middle;\n",
              "    }\n",
              "\n",
              "    .dataframe tbody tr th {\n",
              "        vertical-align: top;\n",
              "    }\n",
              "\n",
              "    .dataframe thead th {\n",
              "        text-align: right;\n",
              "    }\n",
              "</style>\n",
              "<table border=\"1\" class=\"dataframe\">\n",
              "  <thead>\n",
              "    <tr style=\"text-align: right;\">\n",
              "      <th></th>\n",
              "      <th>movie_review</th>\n",
              "      <th>type</th>\n",
              "    </tr>\n",
              "  </thead>\n",
              "  <tbody>\n",
              "    <tr>\n",
              "      <th>0</th>\n",
              "      <td>this is great great movie. I will watch again</td>\n",
              "      <td>positive</td>\n",
              "    </tr>\n",
              "    <tr>\n",
              "      <th>1</th>\n",
              "      <td>I like this movie</td>\n",
              "      <td>positive</td>\n",
              "    </tr>\n",
              "    <tr>\n",
              "      <th>2</th>\n",
              "      <td>amazing movie in this year</td>\n",
              "      <td>positive</td>\n",
              "    </tr>\n",
              "    <tr>\n",
              "      <th>3</th>\n",
              "      <td>cool my boyfriend also said the movie is cool</td>\n",
              "      <td>positive</td>\n",
              "    </tr>\n",
              "    <tr>\n",
              "      <th>4</th>\n",
              "      <td>awesome of the awesome movie ever</td>\n",
              "      <td>positive</td>\n",
              "    </tr>\n",
              "    <tr>\n",
              "      <th>5</th>\n",
              "      <td>shame I wasted money and time</td>\n",
              "      <td>negative</td>\n",
              "    </tr>\n",
              "    <tr>\n",
              "      <th>6</th>\n",
              "      <td>regret on this move. I will never never what m...</td>\n",
              "      <td>negative</td>\n",
              "    </tr>\n",
              "    <tr>\n",
              "      <th>7</th>\n",
              "      <td>I do not like this movie</td>\n",
              "      <td>negative</td>\n",
              "    </tr>\n",
              "    <tr>\n",
              "      <th>8</th>\n",
              "      <td>I do not like actors in this movie</td>\n",
              "      <td>negative</td>\n",
              "    </tr>\n",
              "    <tr>\n",
              "      <th>9</th>\n",
              "      <td>boring boring sleeping movie</td>\n",
              "      <td>negative</td>\n",
              "    </tr>\n",
              "  </tbody>\n",
              "</table>\n",
              "</div>\n",
              "      <button class=\"colab-df-convert\" onclick=\"convertToInteractive('df-a82753cd-b4ad-4b3d-a226-d6e3826d9252')\"\n",
              "              title=\"Convert this dataframe to an interactive table.\"\n",
              "              style=\"display:none;\">\n",
              "        \n",
              "  <svg xmlns=\"http://www.w3.org/2000/svg\" height=\"24px\"viewBox=\"0 0 24 24\"\n",
              "       width=\"24px\">\n",
              "    <path d=\"M0 0h24v24H0V0z\" fill=\"none\"/>\n",
              "    <path d=\"M18.56 5.44l.94 2.06.94-2.06 2.06-.94-2.06-.94-.94-2.06-.94 2.06-2.06.94zm-11 1L8.5 8.5l.94-2.06 2.06-.94-2.06-.94L8.5 2.5l-.94 2.06-2.06.94zm10 10l.94 2.06.94-2.06 2.06-.94-2.06-.94-.94-2.06-.94 2.06-2.06.94z\"/><path d=\"M17.41 7.96l-1.37-1.37c-.4-.4-.92-.59-1.43-.59-.52 0-1.04.2-1.43.59L10.3 9.45l-7.72 7.72c-.78.78-.78 2.05 0 2.83L4 21.41c.39.39.9.59 1.41.59.51 0 1.02-.2 1.41-.59l7.78-7.78 2.81-2.81c.8-.78.8-2.07 0-2.86zM5.41 20L4 18.59l7.72-7.72 1.47 1.35L5.41 20z\"/>\n",
              "  </svg>\n",
              "      </button>\n",
              "      \n",
              "  <style>\n",
              "    .colab-df-container {\n",
              "      display:flex;\n",
              "      flex-wrap:wrap;\n",
              "      gap: 12px;\n",
              "    }\n",
              "\n",
              "    .colab-df-convert {\n",
              "      background-color: #E8F0FE;\n",
              "      border: none;\n",
              "      border-radius: 50%;\n",
              "      cursor: pointer;\n",
              "      display: none;\n",
              "      fill: #1967D2;\n",
              "      height: 32px;\n",
              "      padding: 0 0 0 0;\n",
              "      width: 32px;\n",
              "    }\n",
              "\n",
              "    .colab-df-convert:hover {\n",
              "      background-color: #E2EBFA;\n",
              "      box-shadow: 0px 1px 2px rgba(60, 64, 67, 0.3), 0px 1px 3px 1px rgba(60, 64, 67, 0.15);\n",
              "      fill: #174EA6;\n",
              "    }\n",
              "\n",
              "    [theme=dark] .colab-df-convert {\n",
              "      background-color: #3B4455;\n",
              "      fill: #D2E3FC;\n",
              "    }\n",
              "\n",
              "    [theme=dark] .colab-df-convert:hover {\n",
              "      background-color: #434B5C;\n",
              "      box-shadow: 0px 1px 3px 1px rgba(0, 0, 0, 0.15);\n",
              "      filter: drop-shadow(0px 1px 2px rgba(0, 0, 0, 0.3));\n",
              "      fill: #FFFFFF;\n",
              "    }\n",
              "  </style>\n",
              "\n",
              "      <script>\n",
              "        const buttonEl =\n",
              "          document.querySelector('#df-a82753cd-b4ad-4b3d-a226-d6e3826d9252 button.colab-df-convert');\n",
              "        buttonEl.style.display =\n",
              "          google.colab.kernel.accessAllowed ? 'block' : 'none';\n",
              "\n",
              "        async function convertToInteractive(key) {\n",
              "          const element = document.querySelector('#df-a82753cd-b4ad-4b3d-a226-d6e3826d9252');\n",
              "          const dataTable =\n",
              "            await google.colab.kernel.invokeFunction('convertToInteractive',\n",
              "                                                     [key], {});\n",
              "          if (!dataTable) return;\n",
              "\n",
              "          const docLinkHtml = 'Like what you see? Visit the ' +\n",
              "            '<a target=\"_blank\" href=https://colab.research.google.com/notebooks/data_table.ipynb>data table notebook</a>'\n",
              "            + ' to learn more about interactive tables.';\n",
              "          element.innerHTML = '';\n",
              "          dataTable['output_type'] = 'display_data';\n",
              "          await google.colab.output.renderOutput(dataTable, element);\n",
              "          const docLink = document.createElement('div');\n",
              "          docLink.innerHTML = docLinkHtml;\n",
              "          element.appendChild(docLink);\n",
              "        }\n",
              "      </script>\n",
              "    </div>\n",
              "  </div>\n",
              "  "
            ]
          },
          "metadata": {},
          "execution_count": 3
        }
      ]
    },
    {
      "cell_type": "markdown",
      "source": [
        "- movie_review : 영화 감상평\n",
        "- type : 감상평이 긍정적인지 부정적인지 나타내는 값"
      ],
      "metadata": {
        "id": "FE2rQeajLpH4"
      }
    },
    {
      "cell_type": "markdown",
      "source": [
        "### 데이터 다듬기\n",
        "- 사이킷런의 다항분포 나이브 베이즈도 숫자만 다루므로 1,0으로 치환"
      ],
      "metadata": {
        "id": "6cl_MQg7LwWx"
      }
    },
    {
      "cell_type": "code",
      "source": [
        "df['label'] = df['type'].map({\"positive\" : 1, 'negative' : 0})"
      ],
      "metadata": {
        "id": "5pPleaGgLlYN"
      },
      "execution_count": 4,
      "outputs": []
    },
    {
      "cell_type": "code",
      "source": [
        "df_x = df['movie_review']\n",
        "df_y = df['label']"
      ],
      "metadata": {
        "id": "jIO3slmiL8uS"
      },
      "execution_count": 5,
      "outputs": []
    },
    {
      "cell_type": "code",
      "source": [
        "cv = CountVectorizer()\n",
        "x_traincv = cv.fit_transform(df_x)\n",
        "encoded_input = x_traincv.toarray() # 결과 확인용, 굳이 안해도 됨"
      ],
      "metadata": {
        "id": "5V_gQfYyMCr4"
      },
      "execution_count": 6,
      "outputs": []
    },
    {
      "cell_type": "code",
      "source": [
        "encoded_input"
      ],
      "metadata": {
        "colab": {
          "base_uri": "https://localhost:8080/"
        },
        "id": "vPUijNSjMQOd",
        "outputId": "457da7b5-9b06-42ae-8a12-0feacbdb8523"
      },
      "execution_count": 9,
      "outputs": [
        {
          "output_type": "execute_result",
          "data": {
            "text/plain": [
              "array([[0, 1, 0, 0, 0, 0, 0, 0, 0, 0, 0, 0, 0, 2, 0, 1, 0, 0, 0, 1, 0, 0,\n",
              "        0, 0, 0, 0, 0, 0, 0, 0, 1, 0, 0, 1, 0, 1, 0],\n",
              "       [0, 0, 0, 0, 0, 0, 0, 0, 0, 0, 0, 0, 0, 0, 0, 0, 1, 0, 0, 1, 0, 0,\n",
              "        0, 0, 0, 0, 0, 0, 0, 0, 1, 0, 0, 0, 0, 0, 0],\n",
              "       [0, 0, 0, 1, 0, 0, 0, 0, 0, 0, 0, 0, 0, 0, 1, 0, 0, 0, 0, 1, 0, 0,\n",
              "        0, 0, 0, 0, 0, 0, 0, 0, 1, 0, 0, 0, 0, 0, 1],\n",
              "       [0, 0, 1, 0, 0, 0, 0, 1, 2, 0, 0, 0, 0, 0, 0, 1, 0, 0, 0, 1, 1, 0,\n",
              "        0, 0, 0, 0, 1, 0, 0, 1, 0, 0, 0, 0, 0, 0, 0],\n",
              "       [0, 0, 0, 0, 0, 2, 0, 0, 0, 0, 0, 1, 0, 0, 0, 0, 0, 0, 0, 1, 0, 0,\n",
              "        0, 1, 0, 0, 0, 0, 0, 1, 0, 0, 0, 0, 0, 0, 0],\n",
              "       [0, 0, 0, 0, 1, 0, 0, 0, 0, 0, 0, 0, 0, 0, 0, 0, 0, 1, 0, 0, 0, 0,\n",
              "        0, 0, 0, 0, 0, 1, 0, 0, 0, 1, 1, 0, 0, 0, 0],\n",
              "       [0, 0, 0, 0, 0, 0, 0, 0, 0, 1, 0, 0, 1, 0, 0, 0, 0, 0, 1, 1, 0, 2,\n",
              "        0, 0, 1, 1, 0, 0, 0, 0, 2, 0, 0, 0, 1, 1, 0],\n",
              "       [0, 0, 0, 0, 0, 0, 0, 0, 0, 0, 1, 0, 0, 0, 0, 0, 1, 0, 0, 1, 0, 0,\n",
              "        1, 0, 0, 0, 0, 0, 0, 0, 1, 0, 0, 0, 0, 0, 0],\n",
              "       [1, 0, 0, 0, 0, 0, 0, 0, 0, 0, 1, 0, 0, 0, 1, 0, 1, 0, 0, 1, 0, 0,\n",
              "        1, 0, 0, 0, 0, 0, 0, 0, 1, 0, 0, 0, 0, 0, 0],\n",
              "       [0, 0, 0, 0, 0, 0, 2, 0, 0, 0, 0, 0, 0, 0, 0, 0, 0, 0, 0, 1, 0, 0,\n",
              "        0, 0, 0, 0, 0, 0, 1, 0, 0, 0, 0, 0, 0, 0, 0]])"
            ]
          },
          "metadata": {},
          "execution_count": 9
        }
      ]
    },
    {
      "cell_type": "code",
      "source": [
        "# 각 감상평에 포함된 단어 확인\n",
        "cv.inverse_transform(encoded_input)"
      ],
      "metadata": {
        "colab": {
          "base_uri": "https://localhost:8080/"
        },
        "id": "kQU6ShuVMQ2b",
        "outputId": "b8ac4c10-e684-447f-ef9f-1c0fa46cfb94"
      },
      "execution_count": 10,
      "outputs": [
        {
          "output_type": "execute_result",
          "data": {
            "text/plain": [
              "[array(['again', 'great', 'is', 'movie', 'this', 'watch', 'will'],\n",
              "       dtype='<U9'),\n",
              " array(['like', 'movie', 'this'], dtype='<U9'),\n",
              " array(['amazing', 'in', 'movie', 'this', 'year'], dtype='<U9'),\n",
              " array(['also', 'boyfriend', 'cool', 'is', 'movie', 'my', 'said', 'the'],\n",
              "       dtype='<U9'),\n",
              " array(['awesome', 'ever', 'movie', 'of', 'the'], dtype='<U9'),\n",
              " array(['and', 'money', 'shame', 'time', 'wasted'], dtype='<U9'),\n",
              " array(['director', 'from', 'move', 'movie', 'never', 'on', 'regret',\n",
              "        'this', 'what', 'will'], dtype='<U9'),\n",
              " array(['do', 'like', 'movie', 'not', 'this'], dtype='<U9'),\n",
              " array(['actors', 'do', 'in', 'like', 'movie', 'not', 'this'], dtype='<U9'),\n",
              " array(['boring', 'movie', 'sleeping'], dtype='<U9')]"
            ]
          },
          "metadata": {},
          "execution_count": 10
        }
      ]
    },
    {
      "cell_type": "code",
      "source": [
        "# 벡터의 37개의 인덱스 의미하는 단어 확인\n",
        "cv.get_feature_names()"
      ],
      "metadata": {
        "colab": {
          "base_uri": "https://localhost:8080/"
        },
        "id": "vUNnkyqZMZqn",
        "outputId": "ebd72292-7dd2-45a8-d198-a7a0eb602b4c"
      },
      "execution_count": 11,
      "outputs": [
        {
          "output_type": "stream",
          "name": "stderr",
          "text": [
            "/usr/local/lib/python3.7/dist-packages/sklearn/utils/deprecation.py:87: FutureWarning: Function get_feature_names is deprecated; get_feature_names is deprecated in 1.0 and will be removed in 1.2. Please use get_feature_names_out instead.\n",
            "  warnings.warn(msg, category=FutureWarning)\n"
          ]
        },
        {
          "output_type": "execute_result",
          "data": {
            "text/plain": [
              "['actors',\n",
              " 'again',\n",
              " 'also',\n",
              " 'amazing',\n",
              " 'and',\n",
              " 'awesome',\n",
              " 'boring',\n",
              " 'boyfriend',\n",
              " 'cool',\n",
              " 'director',\n",
              " 'do',\n",
              " 'ever',\n",
              " 'from',\n",
              " 'great',\n",
              " 'in',\n",
              " 'is',\n",
              " 'like',\n",
              " 'money',\n",
              " 'move',\n",
              " 'movie',\n",
              " 'my',\n",
              " 'never',\n",
              " 'not',\n",
              " 'of',\n",
              " 'on',\n",
              " 'regret',\n",
              " 'said',\n",
              " 'shame',\n",
              " 'sleeping',\n",
              " 'the',\n",
              " 'this',\n",
              " 'time',\n",
              " 'wasted',\n",
              " 'watch',\n",
              " 'what',\n",
              " 'will',\n",
              " 'year']"
            ]
          },
          "metadata": {},
          "execution_count": 11
        }
      ]
    },
    {
      "cell_type": "markdown",
      "source": [
        "### 다항분포 나이브 베이즈 모델 학습하기"
      ],
      "metadata": {
        "id": "ylRlPw1KMlNd"
      }
    },
    {
      "cell_type": "code",
      "source": [
        "mnb = MultinomialNB()\n",
        "y_train = df_y.astype('int')\n",
        "mnb.fit(x_traincv, y_train)"
      ],
      "metadata": {
        "colab": {
          "base_uri": "https://localhost:8080/"
        },
        "id": "7Np3Oc-PMjkZ",
        "outputId": "cb66066c-cf2d-45f2-9f0b-ce7ace975379"
      },
      "execution_count": 12,
      "outputs": [
        {
          "output_type": "execute_result",
          "data": {
            "text/plain": [
              "MultinomialNB()"
            ]
          },
          "metadata": {},
          "execution_count": 12
        }
      ]
    },
    {
      "cell_type": "markdown",
      "source": [
        "### 테스트 데이터 만들기"
      ],
      "metadata": {
        "id": "JylLzMcIM4BW"
      }
    },
    {
      "cell_type": "code",
      "source": [
        "test_feedback_list = [\n",
        "                {'movie_review': 'great great great movie ever', 'type': 'positive'},\n",
        "                {'movie_review': 'I like this amazing movie', 'type': 'positive'},\n",
        "                {'movie_review': 'my boyfriend said great movie ever', 'type': 'positive'},\n",
        "                {'movie_review': 'cool cool cool', 'type': 'positive'},\n",
        "                {'movie_review': 'awesome boyfriend said cool movie ever', 'type': 'positive'},\n",
        "                {'movie_review': 'shame shame shame', 'type': 'negative'},\n",
        "                {'movie_review': 'awesome director shame movie boring movie', 'type': 'negative'},\n",
        "                {'movie_review': 'do not like this movie', 'type': 'negative'},\n",
        "                {'movie_review': 'I do not like this boring movie', 'type': 'negative'},\n",
        "                {'movie_review': 'aweful terrible boring movie', 'type': 'negative'}\n",
        "             ]\n",
        "test_df = pd.DataFrame(test_feedback_list)\n",
        "test_df['label'] = test_df['type'].map({\"positive\":1,\"negative\":0})\n",
        "test_x=test_df[\"movie_review\"]\n",
        "test_y=test_df[\"label\"]"
      ],
      "metadata": {
        "id": "aCt3y01PMy4o"
      },
      "execution_count": 13,
      "outputs": []
    },
    {
      "cell_type": "markdown",
      "source": [
        "### 테스트"
      ],
      "metadata": {
        "id": "_9wKIW62NU2Z"
      }
    },
    {
      "cell_type": "code",
      "source": [
        "x_testcv = cv.transform(test_x)\n",
        "predictions = mnb.predict(x_testcv)"
      ],
      "metadata": {
        "id": "NV17rSugM9iA"
      },
      "execution_count": 14,
      "outputs": []
    },
    {
      "cell_type": "code",
      "source": [
        "# 정확도 확인\n",
        "accuracy_score(test_y, predictions)"
      ],
      "metadata": {
        "colab": {
          "base_uri": "https://localhost:8080/"
        },
        "id": "E3dCpQNbNQ3J",
        "outputId": "444ff6d1-cc12-48e1-b824-54a62cc3808c"
      },
      "execution_count": 15,
      "outputs": [
        {
          "output_type": "execute_result",
          "data": {
            "text/plain": [
              "1.0"
            ]
          },
          "metadata": {},
          "execution_count": 15
        }
      ]
    },
    {
      "cell_type": "code",
      "source": [],
      "metadata": {
        "id": "Ef4ENRafNTyX"
      },
      "execution_count": null,
      "outputs": []
    }
  ]
}