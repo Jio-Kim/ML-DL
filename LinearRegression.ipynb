{
  "nbformat": 4,
  "nbformat_minor": 0,
  "metadata": {
    "colab": {
      "provenance": [],
      "authorship_tag": "ABX9TyOm58GCRxbXPPbgio0w/PXa",
      "include_colab_link": true
    },
    "kernelspec": {
      "name": "python3",
      "display_name": "Python 3"
    },
    "language_info": {
      "name": "python"
    }
  },
  "cells": [
    {
      "cell_type": "markdown",
      "metadata": {
        "id": "view-in-github",
        "colab_type": "text"
      },
      "source": [
        "<a href=\"https://colab.research.google.com/github/Jio-Kim/ML-DL/blob/main/LinearRegression.ipynb\" target=\"_parent\"><img src=\"https://colab.research.google.com/assets/colab-badge.svg\" alt=\"Open In Colab\"/></a>"
      ]
    },
    {
      "cell_type": "markdown",
      "source": [
        "# 선형회귀"
      ],
      "metadata": {
        "id": "2KlYnHCM9iDw"
      }
    },
    {
      "cell_type": "code",
      "execution_count": 29,
      "metadata": {
        "id": "bwuwkmFl9cyr"
      },
      "outputs": [],
      "source": [
        "from keras import optimizers\n",
        "from keras.models import Sequential\n",
        "from keras.layers import Dense\n",
        "import numpy as np\n",
        "import matplotlib.pyplot as plt\n",
        "%matplotlib inline"
      ]
    },
    {
      "cell_type": "markdown",
      "source": [
        "### 데이터 만들기\n",
        "- x : 0~10\n",
        "- y : x + 임의의 값"
      ],
      "metadata": {
        "id": "8gM1sYT0OyQY"
      }
    },
    {
      "cell_type": "code",
      "source": [
        "X = np.linspace(0, 10, 10)\n",
        "Y = X + np.random.randn(*X.shape)"
      ],
      "metadata": {
        "id": "ivi8t6ICOs0R"
      },
      "execution_count": 40,
      "outputs": []
    },
    {
      "cell_type": "markdown",
      "source": [
        "### 데이터 조회\n",
        "- 임의로 생성된 데이터 조회\n",
        "- y=ax라는 식을 통해 모든 데이터를 통과하는 직선은 구할 수 없음\n",
        "- 선형회귀를 사용함으로써 모든 데이터를 통과하지는 못하지만 가장 적절하게 근사값을 구할 수 있는 a찾기"
      ],
      "metadata": {
        "id": "Bpgub3XIQICn"
      }
    },
    {
      "cell_type": "code",
      "source": [
        "for x,y in zip(X,Y):\n",
        "  print((round(x,1), round(y,1)))"
      ],
      "metadata": {
        "colab": {
          "base_uri": "https://localhost:8080/"
        },
        "id": "_BCe0TiCP-jW",
        "outputId": "0437205d-cb9b-4512-ff22-bc23943be354"
      },
      "execution_count": 41,
      "outputs": [
        {
          "output_type": "stream",
          "name": "stdout",
          "text": [
            "(0.0, -0.9)\n",
            "(1.1, 1.0)\n",
            "(2.2, 1.2)\n",
            "(3.3, 3.9)\n",
            "(4.4, 5.1)\n",
            "(5.6, 6.5)\n",
            "(6.7, 6.4)\n",
            "(7.8, 8.4)\n",
            "(8.9, 9.3)\n",
            "(10.0, 9.9)\n"
          ]
        }
      ]
    },
    {
      "cell_type": "markdown",
      "source": [
        "### 선형회귀 모델 만들기\n",
        "- 케라스의 Sequential을 사용해 선형회귀 모델 만들기\n",
        "- 모델의 입력은 단순히 x하나이므로 input_dim을 1로 설정\n",
        "- 모델 출력 역시 단순히 y하나이므로 units를 1로 설정\n",
        "- activation 함수는 linear로 설정해 선형성 유지\n",
        "- y=ax+b일 경우 use_bias = True\n",
        "  - 지금 경우에서는 y=ax로 가정하였으므로 use_bias = False"
      ],
      "metadata": {
        "id": "xne9qFQ2Q0Sw"
      }
    },
    {
      "cell_type": "code",
      "source": [
        "# 선형회귀 모델\n",
        "model = Sequential()\n",
        "model.add(Dense(input_dim = 1, units = 1, activation = 'linear', use_bias = False))"
      ],
      "metadata": {
        "id": "hXCP47iFQCSF"
      },
      "execution_count": 42,
      "outputs": []
    },
    {
      "cell_type": "code",
      "source": [
        "# 모델 학습하기 위한 방법 설정\n",
        "# 이론과 마찬가지로 경사하강법으로 평균제곱오차를 줄이는 방법으로 모델 학습\n",
        "# lr = 0.01은 학습률을 0.01로 설정\n",
        "# 너무 작을 경우 학습 속도 너무 느리고, 너무 크면 학습 제대로 안될 수 있음"
      ],
      "metadata": {
        "id": "o6ASi--oR7L_"
      },
      "execution_count": 43,
      "outputs": []
    },
    {
      "cell_type": "code",
      "source": [
        "# 경사하강법\n",
        "sgd = optimizers.SGD(lr = 0.05)\n",
        "model.compile(optimizer = 'sgd', loss = 'mse')"
      ],
      "metadata": {
        "colab": {
          "base_uri": "https://localhost:8080/"
        },
        "id": "K2nPgsgQSjpa",
        "outputId": "f0befc4d-93d0-4b2c-babf-6a7a5bb9f292"
      },
      "execution_count": 44,
      "outputs": [
        {
          "output_type": "stream",
          "name": "stderr",
          "text": [
            "/usr/local/lib/python3.7/dist-packages/keras/optimizers/optimizer_v2/gradient_descent.py:108: UserWarning: The `lr` argument is deprecated, use `learning_rate` instead.\n",
            "  super(SGD, self).__init__(name, **kwargs)\n"
          ]
        }
      ]
    },
    {
      "cell_type": "code",
      "source": [
        "weights = model.layers[0].get_weights()\n",
        "w = weights[0][0][0]\n",
        "print('initial a is : ' + str(w))"
      ],
      "metadata": {
        "colab": {
          "base_uri": "https://localhost:8080/"
        },
        "id": "KizJ0yx7SvXX",
        "outputId": "5537c0a4-48a4-4baa-d0fd-6e1f4e62dac7"
      },
      "execution_count": 45,
      "outputs": [
        {
          "output_type": "stream",
          "name": "stdout",
          "text": [
            "initial a is : 0.52345073\n"
          ]
        }
      ]
    },
    {
      "cell_type": "markdown",
      "source": [
        "최초 a에는 무작위로 적은 수치의 값 설정되어 있음, 학습을 통해 가장 알맞은 a찾아야 함"
      ],
      "metadata": {
        "id": "O-rMnywdS59q"
      }
    },
    {
      "cell_type": "markdown",
      "source": [
        "### 선형회귀 모델 학습\n",
        "- 총 10개의 데이터가 있으므로 배치 사이즈를 10으로 설정해 10개의 데이터에 대한 평균 제곱 오차를 사용한 학습 진행\n",
        "- epochs = 10으로 설정해 10번 반복학습 진행해 최적의 a찾기"
      ],
      "metadata": {
        "id": "YkI6fyUOT4iF"
      }
    },
    {
      "cell_type": "code",
      "source": [
        "model.fit(X,Y, batch_size = 10, epochs = 10, verbose = 1)"
      ],
      "metadata": {
        "colab": {
          "base_uri": "https://localhost:8080/"
        },
        "id": "zsIKEsauS3Wy",
        "outputId": "4f6a3c03-4f4d-42c2-a557-7154380a8060"
      },
      "execution_count": 46,
      "outputs": [
        {
          "output_type": "stream",
          "name": "stdout",
          "text": [
            "Epoch 1/10\n",
            "1/1 [==============================] - 0s 228ms/step - loss: 9.7458\n",
            "Epoch 2/10\n",
            "1/1 [==============================] - 0s 12ms/step - loss: 1.1678\n",
            "Epoch 3/10\n",
            "1/1 [==============================] - 0s 9ms/step - loss: 0.4147\n",
            "Epoch 4/10\n",
            "1/1 [==============================] - 0s 9ms/step - loss: 0.3486\n",
            "Epoch 5/10\n",
            "1/1 [==============================] - 0s 11ms/step - loss: 0.3428\n",
            "Epoch 6/10\n",
            "1/1 [==============================] - 0s 12ms/step - loss: 0.3423\n",
            "Epoch 7/10\n",
            "1/1 [==============================] - 0s 13ms/step - loss: 0.3422\n",
            "Epoch 8/10\n",
            "1/1 [==============================] - 0s 10ms/step - loss: 0.3422\n",
            "Epoch 9/10\n",
            "1/1 [==============================] - 0s 8ms/step - loss: 0.3422\n",
            "Epoch 10/10\n",
            "1/1 [==============================] - 0s 8ms/step - loss: 0.3422\n"
          ]
        },
        {
          "output_type": "execute_result",
          "data": {
            "text/plain": [
              "<keras.callbacks.History at 0x7f13fddbe750>"
            ]
          },
          "metadata": {},
          "execution_count": 46
        }
      ]
    },
    {
      "cell_type": "markdown",
      "source": [
        "- 실행 로그를 통해 손실(loss)이 점차 줄어들고 있음을 확인 가능\n",
        "- 손실이 줄어든다는 말의 의미는 평균 제곱 편차가 줄어든다는 것이며, 이는 a가 점차적으로 데이터에 적합한 값으로 설정돼 가고 있음을 의미\n",
        "- 손실에 변화가 없는것도 확인 가능\n",
        "  - 이미 7번째 학습에서 평균 제곱 오차를 최소화하는 a를 찾은 것으로 해석 가능"
      ],
      "metadata": {
        "id": "SX9rS5gnUQ5b"
      }
    },
    {
      "cell_type": "code",
      "source": [
        "# 학습된 선형 모델의 기울기(w) 조회\n",
        "weights = model.layers[0].get_weights()\n",
        "w = weights[0][0][0]\n",
        "\n",
        "print('trained w is : ' + str(w))"
      ],
      "metadata": {
        "colab": {
          "base_uri": "https://localhost:8080/"
        },
        "id": "hpMMrJUPWwMY",
        "outputId": "d32afd71-4509-4dd2-bb61-5daec0d351a5"
      },
      "execution_count": 47,
      "outputs": [
        {
          "output_type": "stream",
          "name": "stdout",
          "text": [
            "trained w is : 1.0404185\n"
          ]
        }
      ]
    },
    {
      "cell_type": "markdown",
      "source": [
        "### 시각화"
      ],
      "metadata": {
        "id": "ZumSKHmtVC7-"
      }
    },
    {
      "cell_type": "code",
      "source": [
        "plt.plot(X,Y, label = 'data')\n",
        "plt.plot(X, w*X, label = 'prediction')\n",
        "plt.legend()\n",
        "plt.show()"
      ],
      "metadata": {
        "colab": {
          "base_uri": "https://localhost:8080/",
          "height": 265
        },
        "id": "JLAIvhF9VFU9",
        "outputId": "ff2e433a-e9dd-410a-ef0e-b8717ce30c8a"
      },
      "execution_count": 48,
      "outputs": [
        {
          "output_type": "display_data",
          "data": {
            "text/plain": [
              "<Figure size 432x288 with 1 Axes>"
            ],
            "image/png": "[encoded data removed]"
          },
          "metadata": {
            "needs_background": "light"
          }
        }
      ]
    },
    {
      "cell_type": "code",
      "source": [],
      "metadata": {
        "id": "-0vgX9SSVOWn"
      },
      "execution_count": 48,
      "outputs": []
    }
  ]
}