{
  "nbformat": 4,
  "nbformat_minor": 0,
  "metadata": {
    "colab": {
      "provenance": [],
      "authorship_tag": "ABX9TyMHeFuNs6v+/u78EjweTbM5",
      "include_colab_link": true
    },
    "kernelspec": {
      "name": "python3",
      "display_name": "Python 3"
    },
    "language_info": {
      "name": "python"
    }
  },
  "cells": [
    {
      "cell_type": "markdown",
      "metadata": {
        "id": "view-in-github",
        "colab_type": "text"
      },
      "source": [
        "<a href=\"https://colab.research.google.com/github/Jio-Kim/ML-DL/blob/main/SVM.ipynb\" target=\"_parent\"><img src=\"https://colab.research.google.com/assets/colab-badge.svg\" alt=\"Open In Colab\"/></a>"
      ]
    },
    {
      "cell_type": "markdown",
      "source": [
        "# 농구선수의 게임 기록을 학습해서 포지션 예측 by SVM(서포트 벡터 머신)"
      ],
      "metadata": {
        "id": "utCGXjznx8Go"
      }
    },
    {
      "cell_type": "markdown",
      "source": [
        "### 최적의 SVM 파라미터 찾기\n",
        "- 두개의 파라미터 사용\n",
        "  \n",
        "  - 비용(C) : 마진의 너비 조정 파라미터\n",
        "  - 감마(gamma) : 결정 경계선의 곡률 조정하는 파라미터\n",
        "\n",
        "- 사이킷런의 그리드 서치(gridsearch)를 사용하면 최적의 비용과 감마 알아낼 수 있음\n",
        "- 그리드 서치는 개발자가 부여한 비용과 감마 후보들을 모두 조합해 최적의 비용과 감마조합 찾아냄"
      ],
      "metadata": {
        "id": "fqMQayopt4Tq"
      }
    },
    {
      "cell_type": "code",
      "execution_count": 1,
      "metadata": {
        "id": "wM8BKaFdx2Bq"
      },
      "outputs": [],
      "source": [
        "from sklearn.model_selection import GridSearchCV\n",
        "from sklearn.metrics import classification_report\n",
        "from sklearn.metrics import accuracy_score\n",
        "from sklearn.svm import SVC\n",
        "import numpy as np"
      ]
    },
    {
      "cell_type": "code",
      "source": [],
      "metadata": {
        "id": "tOyzhzLjunUq"
      },
      "execution_count": null,
      "outputs": []
    }
  ]
}