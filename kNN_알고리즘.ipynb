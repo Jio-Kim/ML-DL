{
  "nbformat": 4,
  "nbformat_minor": 0,
  "metadata": {
    "colab": {
      "provenance": [],
      "authorship_tag": "ABX9TyORz6QuTTjzcDn5/ps8y+eB",
      "include_colab_link": true
    },
    "kernelspec": {
      "name": "python3",
      "display_name": "Python 3"
    },
    "language_info": {
      "name": "python"
    }
  },
  "cells": [
    {
      "cell_type": "markdown",
      "metadata": {
        "id": "view-in-github",
        "colab_type": "text"
      },
      "source": [
        "<a href=\"https://colab.research.google.com/github/Jio-Kim/ML-DL/blob/main/kNN_%EC%95%8C%EA%B3%A0%EB%A6%AC%EC%A6%98.ipynb\" target=\"_parent\"><img src=\"https://colab.research.google.com/assets/colab-badge.svg\" alt=\"Open In Colab\"/></a>"
      ]
    },
    {
      "cell_type": "markdown",
      "source": [
        "#4.2.2 농구선수의 게임 데이터를 활용한 포지션 예측"
      ],
      "metadata": {
        "id": "z7CBCCema5-t"
      }
    },
    {
      "cell_type": "markdown",
      "source": [
        "###문제 정의\n",
        "NBA 농구선수들의 게임 기록을 데이터로 사용해서 특정 농구선수의 포지션 **예측**"
      ],
      "metadata": {
        "id": "5uOYi9iga-0P"
      }
    },
    {
      "cell_type": "markdown",
      "source": [
        "###데이터 획득\n",
        "- 2017 NBA 농구선수의 실제 데이터\n",
        "- 2017년도 NBA 선수 게임 통계에서 수집"
      ],
      "metadata": {
        "id": "GDeNvr4xbB6D"
      }
    },
    {
      "cell_type": "code",
      "execution_count": null,
      "metadata": {
        "id": "-KAX4DCiM8gT"
      },
      "outputs": [],
      "source": []
    },
    {
      "cell_type": "code",
      "source": [],
      "metadata": {
        "id": "kt0I-uF3a89t"
      },
      "execution_count": null,
      "outputs": []
    }
  ]
}