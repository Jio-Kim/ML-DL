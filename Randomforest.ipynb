{
  "nbformat": 4,
  "nbformat_minor": 0,
  "metadata": {
    "colab": {
      "provenance": [],
      "authorship_tag": "ABX9TyMMoepuqXvzDdFhWofEXA+R",
      "include_colab_link": true
    },
    "kernelspec": {
      "name": "python3",
      "display_name": "Python 3"
    },
    "language_info": {
      "name": "python"
    }
  },
  "cells": [
    {
      "cell_type": "markdown",
      "metadata": {
        "id": "view-in-github",
        "colab_type": "text"
      },
      "source": [
        "<a href=\"https://colab.research.google.com/github/Jio-Kim/ML-DL/blob/main/Randomforest.ipynb\" target=\"_parent\"><img src=\"https://colab.research.google.com/assets/colab-badge.svg\" alt=\"Open In Colab\"/></a>"
      ]
    },
    {
      "cell_type": "markdown",
      "source": [
        "# 랜덤 포레스트 손글씨 분류"
      ],
      "metadata": {
        "id": "Y0SWIgo1NjH1"
      }
    },
    {
      "cell_type": "markdown",
      "source": [
        "- MNIST 손글씨 데이터셋을 사용해 랜덤 포레스트 모델과 의사결정 트리 모델을 동일하게 학습시켜서 두 모델의 성능 차이를 시각화하여 비교"
      ],
      "metadata": {
        "id": "rml3O-xIkOgg"
      }
    },
    {
      "cell_type": "code",
      "execution_count": 1,
      "metadata": {
        "id": "xA5qsJ14NdQW"
      },
      "outputs": [],
      "source": [
        "# 필요 라이브러리\n",
        "from sklearn import datasets\n",
        "from sklearn import tree\n",
        "from sklearn.ensemble import RandomForestClassifier\n",
        "from sklearn.model_selection import cross_val_score\n",
        "import matplotlib.pyplot as plt\n",
        "import pandas as pd\n",
        "import numpy as np"
      ]
    },
    {
      "cell_type": "markdown",
      "source": [
        "### 손글씨 데이터 불러오기"
      ],
      "metadata": {
        "id": "6GJTR6w7ktKV"
      }
    },
    {
      "cell_type": "code",
      "source": [
        "mnist = datasets.load_digits()\n",
        "features, labels = mnist.data, mnist.target"
      ],
      "metadata": {
        "id": "Olkg_e1EkqzX"
      },
      "execution_count": 4,
      "outputs": []
    },
    {
      "cell_type": "markdown",
      "source": [
        "### 교차 검증\n",
        "- MNIST 데이터에 대한 랜덤 포레스트와 의사결정 트리의 검증 정확도 알아보기\n",
        "- 교차 검증을 10번 수행하여 10번의 검증 정확도를 리스트에 저장"
      ],
      "metadata": {
        "id": "njr2x0Mik3JO"
      }
    },
    {
      "cell_type": "code",
      "source": [
        "def cross_validation(classifier, features, labels):\n",
        "  cv_scores = []\n",
        "  for i in range(18):\n",
        "    scores = cross_val_score(classifier, features, labels, cv = 10, scoring = 'accuracy')\n",
        "    cv_scores.append(scores.mean())\n",
        "  \n",
        "  return cv_scores"
      ],
      "metadata": {
        "id": "qAxM8DB3k1Wr"
      },
      "execution_count": 3,
      "outputs": []
    },
    {
      "cell_type": "code",
      "source": [
        "# 의사결정트리의 MNIST 손글씨 검증 정확도 저장\n",
        "dt_cv_scores = cross_validation(tree.DecisionTreeClassifier(), features, labels)\n",
        "# 랜덤 포레스트의 MNIST 손글씨 검증 정확도 저장\n",
        "rf_cv_scores = cross_validation(RandomForestClassifier(), features, labels)"
      ],
      "metadata": {
        "id": "f6EAJwCElZqo"
      },
      "execution_count": 5,
      "outputs": []
    },
    {
      "cell_type": "markdown",
      "source": [
        "### 랜덤 포레스트 vs 의사결정 트리의 정확도 시각화"
      ],
      "metadata": {
        "id": "XkSM5vnHl6fi"
      }
    },
    {
      "cell_type": "markdown",
      "source": [
        "- 10번의 검증 결과를 라인 차트로 시각화하여 랜덤 포레스트와 의사결정 트리의 성능 알아보기\n",
        "- 검증 결과가 담긴 리스트를 pandas 데이터프레임에 저장한 후 시각화"
      ],
      "metadata": {
        "id": "DnlSJOgBmCuk"
      }
    },
    {
      "cell_type": "code",
      "source": [
        "cv_list = {\n",
        "    'random_forest' : rf_cv_scores,\n",
        "    'decision_tree': dt_cv_scores,\n",
        "}\n",
        "\n",
        "df = pd.DataFrame.from_dict(cv_list)\n",
        "df.plot()"
      ],
      "metadata": {
        "colab": {
          "base_uri": "https://localhost:8080/",
          "height": 287
        },
        "id": "VMy4b86bmBaB",
        "outputId": "e4f356a5-b530-4fbf-9cfc-5a7e819b4c17"
      },
      "execution_count": 9,
      "outputs": [
        {
          "output_type": "execute_result",
          "data": {
            "text/plain": [
              "<matplotlib.axes._subplots.AxesSubplot at 0x7f8ac72bfd90>"
            ]
          },
          "metadata": {},
          "execution_count": 9
        },
        {
          "output_type": "display_data",
          "data": {
            "text/plain": [
              "<Figure size 432x288 with 1 Axes>"
            ],
            "image/png": "[encoded data removed]"
          },
          "metadata": {
            "needs_background": "light"
          }
        }
      ]
    },
    {
      "cell_type": "markdown",
      "source": [
        "10번의 검증 결과 모두 랜덤 포레스트가 별도의 하이퍼파라미터 설정 없는 의사결정트리보다 월등히 높음"
      ],
      "metadata": {
        "id": "cGqO1mC1m7Sb"
      }
    },
    {
      "cell_type": "markdown",
      "source": [
        "### 정확도"
      ],
      "metadata": {
        "id": "27z7efpYnDLp"
      }
    },
    {
      "cell_type": "code",
      "source": [
        "# 의사결정 트리, 랜덤 포레스트 정확도\n",
        "print('accuracy of decision tree : ', str(np.mean(dt_cv_scores))) \n",
        "print('accuracy of random forest : ', str(np.mean(rf_cv_scores)))"
      ],
      "metadata": {
        "colab": {
          "base_uri": "https://localhost:8080/"
        },
        "id": "F6JtwHyYmcEa",
        "outputId": "ba1b7448-65e7-46df-bf5f-2d7ae8307569"
      },
      "execution_count": 17,
      "outputs": [
        {
          "output_type": "stream",
          "name": "stdout",
          "text": [
            "accuracy of decision tree :  0.8266039037174978\n",
            "accuracy of random forest :  0.9493551279398579\n"
          ]
        }
      ]
    },
    {
      "cell_type": "code",
      "source": [],
      "metadata": {
        "id": "M_ksn-7GmlvW"
      },
      "execution_count": 15,
      "outputs": []
    },
    {
      "cell_type": "code",
      "source": [],
      "metadata": {
        "id": "609SMH0snLpa"
      },
      "execution_count": null,
      "outputs": []
    }
  ]
}