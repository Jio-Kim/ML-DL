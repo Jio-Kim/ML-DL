{
  "nbformat": 4,
  "nbformat_minor": 0,
  "metadata": {
    "colab": {
      "provenance": [],
      "authorship_tag": "ABX9TyOAMYT+ofaAbi8yC+0XdCYN",
      "include_colab_link": true
    },
    "kernelspec": {
      "name": "python3",
      "display_name": "Python 3"
    },
    "language_info": {
      "name": "python"
    }
  },
  "cells": [
    {
      "cell_type": "markdown",
      "metadata": {
        "id": "view-in-github",
        "colab_type": "text"
      },
      "source": [
        "<a href=\"https://colab.research.google.com/github/Jio-Kim/ML-DL/blob/main/LogisticRegression(3).ipynb\" target=\"_parent\"><img src=\"https://colab.research.google.com/assets/colab-badge.svg\" alt=\"Open In Colab\"/></a>"
      ]
    },
    {
      "cell_type": "markdown",
      "source": [
        "# 소프트맥스(다중 분류 로지스틱 회귀)"
      ],
      "metadata": {
        "id": "4nw3yeeWAJAt"
      }
    },
    {
      "cell_type": "markdown",
      "source": [
        "- M개의 입력을 받아 N개의 클래스로 분류하는 로지스틱 회귀 모델을 케라스로 구현\n",
        "- 보통 다중 분류 로지스틱 회귀 모델을 소프트맥스라고 부름"
      ],
      "metadata": {
        "id": "7XxSoPPE_a4E"
      }
    },
    {
      "cell_type": "code",
      "execution_count": 1,
      "metadata": {
        "id": "K8nHuHda_eUR"
      },
      "outputs": [],
      "source": [
        "from tensorflow.keras.models import Sequential\n",
        "from tensorflow.keras.layers import Dense, Activation\n",
        "from tensorflow.keras.utils import to_categorical\n",
        "from tensorflow.keras.datasets import mnist"
      ]
    },
    {
      "cell_type": "markdown",
      "source": [
        "### 데이터 획득"
      ],
      "metadata": {
        "id": "qXQ4lCJcAXaB"
      }
    },
    {
      "cell_type": "code",
      "source": [
        "# MNIST 손글씨 데이터를 내려받아 변수에 저장\n",
        "(X_train, Y_train), (X_test, Y_test) = mnist.load_data()"
      ],
      "metadata": {
        "id": "Zcpj3QCR_4ex"
      },
      "execution_count": 7,
      "outputs": []
    },
    {
      "cell_type": "code",
      "source": [
        "print(\"train data(count, row, column) : \" + str(X_train.shape))\n",
        "print(\"test data(count, row, column) : \" + str(X_test.shape)) "
      ],
      "metadata": {
        "colab": {
          "base_uri": "https://localhost:8080/"
        },
        "id": "8vFmncl5Am85",
        "outputId": "e07b2a9f-85b2-4bd5-915f-13c842ea212e"
      },
      "execution_count": 8,
      "outputs": [
        {
          "output_type": "stream",
          "name": "stdout",
          "text": [
            "train data(count, row, column) : (60000, 28, 28)\n",
            "test data(count, row, column) : (10000, 28, 28)\n"
          ]
        }
      ]
    },
    {
      "cell_type": "markdown",
      "source": [
        "### 데이터 정규화\n",
        "- 모델 학습에 앞서 데이터를 정규화\n",
        "- 정규화는 입력값을 0부터 1의 값으로 변경\n",
        "- 정규화된 입력값은 경사하강법으로 모델을 학습할 때 더욱 쉽고 빠르게 최적의 w,b를 찾도록 도와줌"
      ],
      "metadata": {
        "id": "FlFdUbbJA0ZT"
      }
    },
    {
      "cell_type": "code",
      "source": [
        "X_train = X_train.astype('float32')\n",
        "X_test = X_test.astype('float32')\n",
        "# 데이터 정규화\n",
        "X_train /= 255\n",
        "X_test /=255"
      ],
      "metadata": {
        "id": "doPIw0n6AyA5"
      },
      "execution_count": 9,
      "outputs": []
    },
    {
      "cell_type": "markdown",
      "source": [
        "- y_train, y_test는 손글씨 데이터에 해당하는 숫자\n",
        "- y_train에는 6만개, y_test에는 1만개의 숫자 담겨 있음"
      ],
      "metadata": {
        "id": "zxeR8h0DCDnq"
      }
    },
    {
      "cell_type": "code",
      "source": [
        "print('train target (count) : ' + str(Y_train.shape))\n",
        "print('test target (count) : ' + str(Y_test.shape))"
      ],
      "metadata": {
        "colab": {
          "base_uri": "https://localhost:8080/"
        },
        "id": "_teiHhxnB_rI",
        "outputId": "6fcf2d3a-955d-4746-86e2-0ed96369d29e"
      },
      "execution_count": 10,
      "outputs": [
        {
          "output_type": "stream",
          "name": "stdout",
          "text": [
            "train target (count) : (60000,)\n",
            "test target (count) : (10000,)\n"
          ]
        }
      ]
    },
    {
      "cell_type": "code",
      "source": [
        "# y_train, y_test 샘플로 숫자 출력\n",
        "print('train target (count) : ' + str(Y_train[0]))\n",
        "print('test target (count) : ' + str(Y_test[0]))"
      ],
      "metadata": {
        "colab": {
          "base_uri": "https://localhost:8080/"
        },
        "id": "mrVw0tNnCRs5",
        "outputId": "57a9e41d-e0fe-4a93-89f4-8b215cb2bb3a"
      },
      "execution_count": 11,
      "outputs": [
        {
          "output_type": "stream",
          "name": "stdout",
          "text": [
            "train target (count) : 5\n",
            "test target (count) : 7\n"
          ]
        }
      ]
    },
    {
      "cell_type": "markdown",
      "source": [
        "### 데이터 단순화\n",
        "- 28 * 28 픽셀의 행/열 지역적인 정보를 사용하지 않고 단순히 정규화된 입력값만 가지고 숫자를 분류할 것이므로 행과 열의 구분 없이 단순히 784(28*28) 길이의 배열로 데이터 단순화"
      ],
      "metadata": {
        "id": "JAPZYp8aCjHK"
      }
    },
    {
      "cell_type": "code",
      "source": [
        "input_dim = 784\n",
        "X_train = X_train.reshape(60000, input_dim)\n",
        "X_test = X_test.reshape(10000, input_dim)"
      ],
      "metadata": {
        "id": "3-hOLVlkCh_y"
      },
      "execution_count": 13,
      "outputs": []
    },
    {
      "cell_type": "code",
      "source": [
        "# 현재 데이터가 2차원이 아닌 1차원으로 변경된 것 확인 가능\n",
        "print(X_train.shape)\n",
        "print(Y_train.shape)\n",
        "print(X_test.shape)\n",
        "print(Y_test.shape)"
      ],
      "metadata": {
        "colab": {
          "base_uri": "https://localhost:8080/"
        },
        "id": "nyhzUC1LFGX-",
        "outputId": "2df05af1-2ded-4680-d219-a36481221906"
      },
      "execution_count": 16,
      "outputs": [
        {
          "output_type": "stream",
          "name": "stdout",
          "text": [
            "(60000, 784)\n",
            "(60000,)\n",
            "(10000, 784)\n",
            "(10000,)\n"
          ]
        }
      ]
    },
    {
      "cell_type": "markdown",
      "source": [
        "### 소프트맥스\n",
        "- 소프트맥스는 정규화된 여러 개의 로지스틱 회귀로 구성되어 있으며, 10개의 로지스틱 회귀를 배열로 나타낼 경우 [L0, L1,L2,L3,L4,L5,L6,L7,L8,L9]로 나타낼 수 있음\n",
        "- 각 인덱스는 각 숫자를 의미함\n",
        "\n",
        "\n",
        "- 로지스틱 회귀이기 때문에 각 L의 값은 0~1이며, 만약 출력이 [0.9,0.1,0,0,0,0,0,0,0]인 경우 가장 높은 확률을 가진 첫번쨰 인덱스, 즉 0이 소프트맥스의 출력값이 됨"
      ],
      "metadata": {
        "id": "L0hhOY4kFd0Q"
      }
    },
    {
      "cell_type": "code",
      "source": [
        "# 학습시 실제값과의 크로스 엔트로피를 계산해야 하므로 아래 코드를 실행해 실제값을 원 핫 인코딩으로 변환\n",
        "num_classes = 10\n",
        "y_train = to_categorical(Y_train, num_classes)\n",
        "y_test = to_categorical(Y_test, num_classes)"
      ],
      "metadata": {
        "id": "M0KX8iDSFWDy"
      },
      "execution_count": 18,
      "outputs": []
    },
    {
      "cell_type": "code",
      "source": [
        "print(y_train[0])"
      ],
      "metadata": {
        "colab": {
          "base_uri": "https://localhost:8080/"
        },
        "id": "aG3bcz4BGOhX",
        "outputId": "87c354f3-24fb-4c27-868c-b3ce6a392b11"
      },
      "execution_count": 19,
      "outputs": [
        {
          "output_type": "stream",
          "name": "stdout",
          "text": [
            "[0. 0. 0. 0. 0. 1. 0. 0. 0. 0.]\n"
          ]
        }
      ]
    },
    {
      "cell_type": "code",
      "source": [
        "# 케라스의 Sequential()을 사용하면 간단하게 소프트맥스 구현 가능\n",
        "# 784개의 입력을 받아 10개의 시그모이드 값을 출력\n",
        "model = Sequential()\n",
        "model.add(Dense(input_dim = input_dim, units = 10, activation = 'softmax'))"
      ],
      "metadata": {
        "id": "I_YWsGxqGWNT"
      },
      "execution_count": 20,
      "outputs": []
    },
    {
      "cell_type": "code",
      "source": [
        "model.compile(optimizer='sgd', loss='categorical_crossentropy', metrics=['accuracy']) \n",
        "model.fit(X_train, y_train, batch_size=2048, epochs=100, verbose=0) "
      ],
      "metadata": {
        "colab": {
          "base_uri": "https://localhost:8080/"
        },
        "id": "xFvh6HrVJehu",
        "outputId": "212ef0ef-5d4e-49f1-f947-bf14b6e2a5af"
      },
      "execution_count": 26,
      "outputs": [
        {
          "output_type": "execute_result",
          "data": {
            "text/plain": [
              "<keras.callbacks.History at 0x7fa591335550>"
            ]
          },
          "metadata": {},
          "execution_count": 26
        }
      ]
    },
    {
      "cell_type": "markdown",
      "source": [
        "### 모델 테스트"
      ],
      "metadata": {
        "id": "PcCAP0tbGouP"
      }
    },
    {
      "cell_type": "code",
      "source": [
        "score = model.evaluate(X_test, y_test)\n",
        "print('Test accuracy\":', score[1])"
      ],
      "metadata": {
        "colab": {
          "base_uri": "https://localhost:8080/"
        },
        "id": "uXsoS9mIGkFw",
        "outputId": "d68e7693-b9b9-47e3-9071-a7c42ef869f8"
      },
      "execution_count": 27,
      "outputs": [
        {
          "output_type": "stream",
          "name": "stdout",
          "text": [
            "313/313 [==============================] - 1s 1ms/step - loss: 0.4221 - accuracy: 0.8914\n",
            "Test accuracy\": 0.8913999795913696\n"
          ]
        }
      ]
    },
    {
      "cell_type": "markdown",
      "source": [
        "### 모델 요약\n",
        "- 총 10개의 로지스틱 회귀, 각 로지스틱 회귀는 784개의 회귀계수(W)와 1개의 편향(bias)가 있어 총 7850(785*10)개의 param 존재"
      ],
      "metadata": {
        "id": "vJ7FuPeQJwci"
      }
    },
    {
      "cell_type": "code",
      "source": [
        "model.summary()"
      ],
      "metadata": {
        "colab": {
          "base_uri": "https://localhost:8080/"
        },
        "id": "-tzzwnW6Hlym",
        "outputId": "01033ae7-d1fa-446a-9247-3bd3ad9d52fd"
      },
      "execution_count": 28,
      "outputs": [
        {
          "output_type": "stream",
          "name": "stdout",
          "text": [
            "Model: \"sequential\"\n",
            "_________________________________________________________________\n",
            " Layer (type)                Output Shape              Param #   \n",
            "=================================================================\n",
            " dense (Dense)               (None, 10)                7850      \n",
            "                                                                 \n",
            "=================================================================\n",
            "Total params: 7,850\n",
            "Trainable params: 7,850\n",
            "Non-trainable params: 0\n",
            "_________________________________________________________________\n"
          ]
        }
      ]
    },
    {
      "cell_type": "code",
      "source": [
        "# 회귀계수의 개수와 편향의 개수 확인\n",
        "model.layers[0].weights"
      ],
      "metadata": {
        "colab": {
          "base_uri": "https://localhost:8080/"
        },
        "id": "3ZAZrEYmJ_3A",
        "outputId": "69dd5e66-4374-4fea-b7be-85db8ca665d1"
      },
      "execution_count": 29,
      "outputs": [
        {
          "output_type": "execute_result",
          "data": {
            "text/plain": [
              "[<tf.Variable 'dense/kernel:0' shape=(784, 10) dtype=float32, numpy=\n",
              " array([[ 0.01563162, -0.00993092,  0.022488  , ..., -0.03123334,\n",
              "          0.07233564, -0.05679205],\n",
              "        [ 0.04933815, -0.04028556, -0.011798  , ...,  0.02394254,\n",
              "          0.06982256, -0.07205341],\n",
              "        [ 0.07182535, -0.06674766,  0.02926891, ...,  0.07262319,\n",
              "         -0.02922601,  0.05645695],\n",
              "        ...,\n",
              "        [-0.07869192,  0.0583502 ,  0.04053553, ..., -0.0775377 ,\n",
              "         -0.05193917,  0.05881495],\n",
              "        [ 0.06080773, -0.00988601, -0.03853075, ..., -0.0740303 ,\n",
              "         -0.03198742, -0.06326766],\n",
              "        [ 0.01619154, -0.0532421 ,  0.0563123 , ...,  0.05487303,\n",
              "          0.07253354, -0.0078078 ]], dtype=float32)>,\n",
              " <tf.Variable 'dense/bias:0' shape=(10,) dtype=float32, numpy=\n",
              " array([-0.07476708,  0.1559597 , -0.02923649, -0.0637788 ,  0.048158  ,\n",
              "         0.14809175, -0.02139518,  0.10115607, -0.23789537, -0.02629288],\n",
              "       dtype=float32)>]"
            ]
          },
          "metadata": {},
          "execution_count": 29
        }
      ]
    },
    {
      "cell_type": "code",
      "source": [],
      "metadata": {
        "id": "lgZgo9ALKFv6"
      },
      "execution_count": null,
      "outputs": []
    }
  ]
}