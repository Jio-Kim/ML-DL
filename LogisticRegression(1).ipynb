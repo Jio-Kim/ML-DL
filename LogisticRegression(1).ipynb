{
  "nbformat": 4,
  "nbformat_minor": 0,
  "metadata": {
    "colab": {
      "provenance": [],
      "authorship_tag": "ABX9TyN3PBLC9NJrzhOn7Rw8eMvR",
      "include_colab_link": true
    },
    "kernelspec": {
      "name": "python3",
      "display_name": "Python 3"
    },
    "language_info": {
      "name": "python"
    }
  },
  "cells": [
    {
      "cell_type": "markdown",
      "metadata": {
        "id": "view-in-github",
        "colab_type": "text"
      },
      "source": [
        "<a href=\"https://colab.research.google.com/github/Jio-Kim/ML-DL/blob/main/LogisticRegression(1).ipynb\" target=\"_parent\"><img src=\"https://colab.research.google.com/assets/colab-badge.svg\" alt=\"Open In Colab\"/></a>"
      ]
    },
    {
      "cell_type": "markdown",
      "source": [
        "# 단일 입력 로지스틱 회귀"
      ],
      "metadata": {
        "id": "j38mZEWf-3ra"
      }
    },
    {
      "cell_type": "markdown",
      "source": [
        "1개의 입력을 받아 0 또는 1을 출력하는 로지스틱 회귀 모델을 케라스로 구현"
      ],
      "metadata": {
        "id": "ZfIhebW6zqC5"
      }
    },
    {
      "cell_type": "code",
      "execution_count": 1,
      "metadata": {
        "id": "Ng-Ce7dp-2gD"
      },
      "outputs": [],
      "source": [
        "from tensorflow.keras.models import Sequential\n",
        "from tensorflow.keras.layers import Dense, Activation\n",
        "import numpy as np"
      ]
    },
    {
      "cell_type": "markdown",
      "source": [
        "### 로지스틱 회귀 모델 만들기\n",
        "- sigmoid(wx+b)의 형태를 갖는 간단한 로지스틱 회귀를 케라스로 구현"
      ],
      "metadata": {
        "id": "xDNhT7ryz5Ku"
      }
    },
    {
      "cell_type": "code",
      "source": [
        "model = Sequential()\n",
        "# 입력 1개를 받아 출력 1개를 리턴하는 선형 회귀 레이어 생성\n",
        "model.add(Dense(input_dim = 1, units = 1))\n",
        "# 선형 회귀의 출력값을 시그모이드에 연결\n",
        "model.add(Activation('sigmoid'))\n",
        "# 크로스 엔트로피를 비용함수로 설정해 경사하강법으로 학습\n",
        "model.compile(loss = 'binary_crossentropy', optimizer = 'sgd', metrics = ['binary_accuracy'])"
      ],
      "metadata": {
        "id": "tuM3F4jlz1Z5"
      },
      "execution_count": 5,
      "outputs": []
    },
    {
      "cell_type": "markdown",
      "source": [
        "### 데이터 생성\n",
        "- 모델 학습을 위한 데이터 생성"
      ],
      "metadata": {
        "id": "4wVgLjOK0in7"
      }
    },
    {
      "cell_type": "code",
      "source": [
        "X = np.array([-2, -1.5, -1, 1.25, 1.62, 2])\n",
        "Y = np.array([0,0,0,1,1,1])"
      ],
      "metadata": {
        "id": "wBg_S6I00CpL"
      },
      "execution_count": 6,
      "outputs": []
    },
    {
      "cell_type": "markdown",
      "source": [
        "### 모델 학습\n",
        "- 300번의 반복 학습을 통해 최적의 w와 b를 찾음"
      ],
      "metadata": {
        "id": "dzO3871S0tDF"
      }
    },
    {
      "cell_type": "code",
      "source": [
        "model.fit(X,Y, epochs = 300, verbose = 0)"
      ],
      "metadata": {
        "colab": {
          "base_uri": "https://localhost:8080/"
        },
        "id": "0HGZ4pww0sL9",
        "outputId": "ee9f098a-a02f-4a62-8c85-662c224afbe2"
      },
      "execution_count": 7,
      "outputs": [
        {
          "output_type": "execute_result",
          "data": {
            "text/plain": [
              "<keras.callbacks.History at 0x7fbd60833650>"
            ]
          },
          "metadata": {},
          "execution_count": 7
        }
      ]
    },
    {
      "cell_type": "markdown",
      "source": [
        "학습 데이터에 따른 실제 모델의 출력값 확인"
      ],
      "metadata": {
        "id": "gPYXmekB04dQ"
      }
    },
    {
      "cell_type": "code",
      "source": [
        "model.predict([-2,-1.5,-1,1.25,1.62,2])\n",
        "# 앞의 세 숫자 0.5보다 작고, 뒤 세 숫자 0.5보다 큼"
      ],
      "metadata": {
        "colab": {
          "base_uri": "https://localhost:8080/"
        },
        "id": "oqbkOLa800sD",
        "outputId": "3c2257a9-2622-4306-d35a-4bcd07d0fc8f"
      },
      "execution_count": 8,
      "outputs": [
        {
          "output_type": "stream",
          "name": "stdout",
          "text": [
            "1/1 [==============================] - 0s 94ms/step\n"
          ]
        },
        {
          "output_type": "execute_result",
          "data": {
            "text/plain": [
              "array([[0.09038001],\n",
              "       [0.14974783],\n",
              "       [0.23791288],\n",
              "       [0.8040419 ],\n",
              "       [0.86239713],\n",
              "       [0.90639454]], dtype=float32)"
            ]
          },
          "metadata": {},
          "execution_count": 8
        }
      ]
    },
    {
      "cell_type": "code",
      "source": [
        "# 시그모이드 특성상 왼쪽 극한 값은 0, 오른쪽 극한 값은 1로 수렴\n",
        "model.predict([-1000,1000])"
      ],
      "metadata": {
        "colab": {
          "base_uri": "https://localhost:8080/"
        },
        "id": "xE--y0cY0_VY",
        "outputId": "4b85f027-9378-444a-8d58-74c3a7bca3f4"
      },
      "execution_count": 9,
      "outputs": [
        {
          "output_type": "stream",
          "name": "stdout",
          "text": [
            "1/1 [==============================] - 0s 79ms/step\n"
          ]
        },
        {
          "output_type": "execute_result",
          "data": {
            "text/plain": [
              "array([[0.],\n",
              "       [1.]], dtype=float32)"
            ]
          },
          "metadata": {},
          "execution_count": 9
        }
      ]
    },
    {
      "cell_type": "markdown",
      "source": [
        "### 모델 요약\n",
        "- 단일 입력 로지스틱 모델은 단 한개의 w와 b가 첫번째 레이어에 존재, 학습 과정을 통해 최적의 w와 bias 지정\n",
        "- dense_1에서 2개의 param 확인 가능(w,b)\n",
        "- dense_1 레이어가 바로 선형 회귀 레이어\n",
        "- 선형 회귀 레이어의 출력값은 activation_1 레이어의 입력으로 들어감\n",
        "- activation_1 레이어는 시그모이드 함수로 설정, 특별히 학습되는 param은 존재하지 않음"
      ],
      "metadata": {
        "id": "uHUqi_FE1s60"
      }
    },
    {
      "cell_type": "code",
      "source": [
        "model.summary()"
      ],
      "metadata": {
        "colab": {
          "base_uri": "https://localhost:8080/"
        },
        "id": "Xwi6NL0t1QIo",
        "outputId": "e551d71a-1ea2-4848-dbed-f11fa47057fb"
      },
      "execution_count": 10,
      "outputs": [
        {
          "output_type": "stream",
          "name": "stdout",
          "text": [
            "Model: \"sequential_3\"\n",
            "_________________________________________________________________\n",
            " Layer (type)                Output Shape              Param #   \n",
            "=================================================================\n",
            " dense_2 (Dense)             (None, 1)                 2         \n",
            "                                                                 \n",
            " activation_1 (Activation)   (None, 1)                 0         \n",
            "                                                                 \n",
            "=================================================================\n",
            "Total params: 2\n",
            "Trainable params: 2\n",
            "Non-trainable params: 0\n",
            "_________________________________________________________________\n"
          ]
        }
      ]
    },
    {
      "cell_type": "code",
      "source": [
        "# 첫번째 레이어에 존재하는 w와 b 확인\n",
        "model.layers[0].weights"
      ],
      "metadata": {
        "colab": {
          "base_uri": "https://localhost:8080/"
        },
        "id": "OM0idKTc1xfm",
        "outputId": "4140fde9-a41c-4013-ec5d-c342a5ffdfa2"
      },
      "execution_count": 11,
      "outputs": [
        {
          "output_type": "execute_result",
          "data": {
            "text/plain": [
              "[<tf.Variable 'dense_2/kernel:0' shape=(1, 1) dtype=float32, numpy=array([[1.1448475]], dtype=float32)>,\n",
              " <tf.Variable 'dense_2/bias:0' shape=(1,) dtype=float32, numpy=array([-0.01930881], dtype=float32)>]"
            ]
          },
          "metadata": {},
          "execution_count": 11
        }
      ]
    },
    {
      "cell_type": "code",
      "source": [
        "# 학습을 통해 구한 최적의 w,b 확인\n",
        "model.layers[0].get_weights()"
      ],
      "metadata": {
        "colab": {
          "base_uri": "https://localhost:8080/"
        },
        "id": "yE5vBf3z3vtY",
        "outputId": "dc16ef0b-8c78-451a-e17f-03ab5f606b0e"
      },
      "execution_count": 12,
      "outputs": [
        {
          "output_type": "execute_result",
          "data": {
            "text/plain": [
              "[array([[1.1448475]], dtype=float32), array([-0.01930881], dtype=float32)]"
            ]
          },
          "metadata": {},
          "execution_count": 12
        }
      ]
    },
    {
      "cell_type": "code",
      "source": [],
      "metadata": {
        "id": "4Zm2uSSp363i"
      },
      "execution_count": null,
      "outputs": []
    }
  ]
}